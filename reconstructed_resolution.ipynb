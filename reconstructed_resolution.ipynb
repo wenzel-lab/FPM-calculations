{
 "cells": [
  {
   "cell_type": "markdown",
   "metadata": {},
   "source": [
    "# For calculating the target resolution of an FPM reconstruction\n",
    "All information is taken from the FPM-App 1.1 Documentation\n",
    "\n",
    "## Maximize synthetic magnification\n",
    "### By adapting the setup\n",
    "- Wavelength: Smaller is better. The blue the better. To consider here:\n",
    "    - Bayer pattern: Green sensors tend to be twice as abundant as red and blue\n",
    "- Distance: lower is better as it increases the maximum illumination density. To consider here:\n",
    "    - Spectrum overlap in Fourier Domain is supposed to be between 40-60%. Hence, the distance cannot be infinitely lowered without increasing the matrix to one with higher LED density\n",
    "\n",
    "### By changing the setup\n",
    "- Dimensions of LED matrix: higher is better\n",
    "    - Must remain within 40-60% overlap\n",
    "- LED density on matrix: higher is better as it allows further decreasing the distance to the sample sli\n",
    "    - more LEDs = more acquisition = more calculation workload\n",
    "\n",
    "## Inputs\n",
    "### List of all specifications of our current setup\n"
   ]
  },
  {
   "cell_type": "code",
   "execution_count": 36,
   "metadata": {
    "pycharm": {
     "name": "#%%\n"
    }
   },
   "outputs": [],
   "source": [
    "objective_magnification = 4  # X\n",
    "reference_focus_length = 180  # mm\n",
    "lens_focal_length = 50  # mm\n",
    "camera_pixel_size = 1.85  # micron\n",
    "pixel_resolution = 4024\n",
    "numerical_aperture = 0.13\n",
    "\n",
    "### TBD: the following values are guesses\n",
    "r_led_max = 3.85 / 2  # cm. Distance from center LED to outermost LED\n",
    "d_matrix = 2  # cm. Given that slide and LED matrix should be parallel, this is the shortest distance from any point of the matrix to the slide\n",
    "central_wavelength = 510  # nm. For a green LED"
   ]
  },
  {
   "cell_type": "markdown",
   "metadata": {},
   "source": [
    "### Magnification\n",
    "The 4X infinity-corrected objective has a reference focus length of 180 mm. That is a objective focus length of\n"
   ]
  },
  {
   "cell_type": "code",
   "execution_count": 37,
   "metadata": {
    "pycharm": {
     "name": "#%%\n"
    }
   },
   "outputs": [
    {
     "name": "stdout",
     "output_type": "stream",
     "text": [
      "objective focus length is 45.0 mm\n"
     ]
    }
   ],
   "source": [
    "objective_focus_length = reference_focus_length / objective_magnification\n",
    "print(f'objective focus length is {objective_focus_length} mm')"
   ]
  },
  {
   "cell_type": "markdown",
   "metadata": {},
   "source": [
    "The added macro lens has a focus length of 50 mm. The resulting magnification `mag` is"
   ]
  },
  {
   "cell_type": "code",
   "execution_count": 38,
   "metadata": {
    "pycharm": {
     "name": "#%%\n"
    }
   },
   "outputs": [
    {
     "name": "stdout",
     "output_type": "stream",
     "text": [
      "The effective magnification is 1.1111111111111112 X\n"
     ]
    }
   ],
   "source": [
    "magnification = lens_focal_length / objective_focus_length\n",
    "print(f'The effective magnification is {magnification} X')"
   ]
  },
  {
   "cell_type": "markdown",
   "metadata": {},
   "source": [
    "### Pixel size at object plane\n",
    "The distance in x (or y) direction of the sample that is sampled onto the same pixel."
   ]
  },
  {
   "cell_type": "code",
   "execution_count": 39,
   "metadata": {
    "pycharm": {
     "name": "#%%\n"
    }
   },
   "outputs": [
    {
     "name": "stdout",
     "output_type": "stream",
     "text": [
      "The pixel size at object plane is 1.665 micron per pixel\n"
     ]
    }
   ],
   "source": [
    "pixObj = camera_pixel_size / magnification\n",
    "print(f'The pixel size at object plane is {pixObj} micron per pixel')"
   ]
  },
  {
   "cell_type": "markdown",
   "metadata": {},
   "source": [
    "### Sampling size in x (y) direction\n",
    "Effectively the image density (like, images per distance)"
   ]
  },
  {
   "cell_type": "code",
   "execution_count": 40,
   "metadata": {
    "pycharm": {
     "name": "#%%\n"
    }
   },
   "outputs": [
    {
     "name": "stdout",
     "output_type": "stream",
     "text": [
      "The sampling size in x (y) direction is 149.25462241565623 per meter\n"
     ]
    }
   ],
   "source": [
    "sampling_size = 1/(pixel_resolution * pixObj * 10**-6)\n",
    "print(f'The sampling size in x (y) direction is {sampling_size} per meter')"
   ]
  },
  {
   "cell_type": "markdown",
   "metadata": {},
   "source": [
    "### Maximum spatial frequency\n",
    "The product of synthetic aperture (the point where FPM increases resolution compared to normal light microscopy) and the frequency of the light used for illuminating the sample.\n",
    "\n",
    "#### Maximum illumination aperture\n",
    "The aperture calculated from the maximum illumination angle `r_led_max` (from the outermost LED of the matrix to the optical axis based on the distance sample to matrix `d_matrix`)"
   ]
  },
  {
   "cell_type": "code",
   "execution_count": 41,
   "metadata": {
    "pycharm": {
     "name": "#%%\n"
    }
   },
   "outputs": [
    {
     "name": "stdout",
     "output_type": "stream",
     "text": [
      "The maximum illumination angle is 43.90530940814697°\n",
      "The maximum illumination aperture is 0.6934685963587518\n"
     ]
    }
   ],
   "source": [
    "import math\n",
    "maximum_illumination_angle = math.atan(r_led_max / d_matrix)\n",
    "print(f'The maximum illumination angle is {math.degrees(maximum_illumination_angle)}°')\n",
    "maximum_illumination_aperture = math.sin(maximum_illumination_angle)\n",
    "print(f'The maximum illumination aperture is {maximum_illumination_aperture}')"
   ]
  },
  {
   "cell_type": "code",
   "execution_count": 42,
   "metadata": {
    "pycharm": {
     "name": "#%%\n"
    }
   },
   "outputs": [
    {
     "name": "stdout",
     "output_type": "stream",
     "text": [
      "The maximum spatial frequency is 1614644.3065857878 per meter\n"
     ]
    }
   ],
   "source": [
    "maximum_spatial_frequency = (maximum_illumination_aperture + numerical_aperture) / (central_wavelength * 10**-9)\n",
    "print(f'The maximum spatial frequency is {maximum_spatial_frequency} per meter')"
   ]
  },
  {
   "cell_type": "markdown",
   "metadata": {},
   "source": [
    "## Resolution of reconstructed object in x (y) direction\n",
    "The output image resolution which should be significantly higher than `pixel_resolution`"
   ]
  },
  {
   "cell_type": "code",
   "execution_count": 43,
   "metadata": {
    "pycharm": {
     "name": "#%%\n"
    }
   },
   "outputs": [
    {
     "name": "stdout",
     "output_type": "stream",
     "text": [
      "The output image will have a resolution of 44264 pixels in x (y) direction; \n",
      "the original image had a resolution of 4024\n"
     ]
    }
   ],
   "source": [
    "size = math.ceil(2*round(2 * maximum_spatial_frequency / sampling_size) / pixel_resolution) * pixel_resolution\n",
    "print(f'The output image will have a resolution of {size} pixels in x (y) direction; \\nthe original image had a resolution of {pixel_resolution}')"
   ]
  }
 ],
 "metadata": {
  "kernelspec": {
   "display_name": "Python 3 (ipykernel)",
   "language": "python",
   "name": "python3"
  },
  "language_info": {
   "codemirror_mode": {
    "name": "ipython",
    "version": 3
   },
   "file_extension": ".py",
   "mimetype": "text/x-python",
   "name": "python",
   "nbconvert_exporter": "python",
   "pygments_lexer": "ipython3",
   "version": "3.9.14"
  }
 },
 "nbformat": 4,
 "nbformat_minor": 1
}